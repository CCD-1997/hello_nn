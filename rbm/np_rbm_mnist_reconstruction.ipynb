{
 "cells": [
  {
   "cell_type": "markdown",
   "metadata": {},
   "source": [
    "# Restricted Boltzmann Machine\n",
    "##### MNIST reconstruction using numpy"
   ]
  },
  {
   "cell_type": "markdown",
   "metadata": {},
   "source": [
    "Import dependencies"
   ]
  },
  {
   "cell_type": "code",
   "execution_count": 1,
   "metadata": {
    "collapsed": true
   },
   "outputs": [],
   "source": [
    "import numpy as np\n",
    "from tensorflow.examples.tutorials.mnist import input_data\n",
    "import matplotlib.pyplot as plt\n",
    "%matplotlib inline"
   ]
  },
  {
   "cell_type": "markdown",
   "metadata": {},
   "source": [
    "### Util functions"
   ]
  },
  {
   "cell_type": "markdown",
   "metadata": {},
   "source": [
    "function to plot the images after during testing phase"
   ]
  },
  {
   "cell_type": "code",
   "execution_count": 2,
   "metadata": {
    "collapsed": true
   },
   "outputs": [],
   "source": [
    "def plot_images(images, title, no_i_x, no_i_y=2):\n",
    "    fig = plt.figure(figsize=(5, 15))\n",
    "    fig.canvas.set_window_title(title)\n",
    "    images = np.array(images).reshape(-1, 28, 28)\n",
    "    for i in range(no_i_x):\n",
    "        for j in range(no_i_y):\n",
    "            ax = fig.add_subplot(no_i_x, no_i_y, no_i_x * j + (i + 1))\n",
    "            ax.matshow(images[no_i_x * j + i], cmap=\"gray\")\n",
    "            plt.xticks(np.array([]))\n",
    "            plt.yticks(np.array([]))\n",
    "\n",
    "            if j == 0 and i == 0:\n",
    "                ax.set_title(\"Real\")\n",
    "            elif j == 0 and i == 1:\n",
    "                ax.set_title(\"Reconstructed\")"
   ]
  },
  {
   "cell_type": "markdown",
   "metadata": {},
   "source": [
    "load the mnist dataset from tensorflow.examples"
   ]
  },
  {
   "cell_type": "code",
   "execution_count": 3,
   "metadata": {},
   "outputs": [
    {
     "name": "stdout",
     "output_type": "stream",
     "text": [
      "Extracting MNIST_data/train-images-idx3-ubyte.gz\n",
      "Extracting MNIST_data/train-labels-idx1-ubyte.gz\n",
      "Extracting MNIST_data/t10k-images-idx3-ubyte.gz\n",
      "Extracting MNIST_data/t10k-labels-idx1-ubyte.gz\n"
     ]
    }
   ],
   "source": [
    "mnist = input_data.read_data_sets(\"MNIST_data/\", one_hot=True)\n",
    "features_train, labels_train, features_test, labels_test = \\\n",
    "    mnist.train.images, mnist.train.labels, mnist.test.images, mnist.test.labels"
   ]
  },
  {
   "cell_type": "markdown",
   "metadata": {},
   "source": [
    "### Neural Network"
   ]
  },
  {
   "cell_type": "markdown",
   "metadata": {},
   "source": [
    "<br>Hyper-parameters"
   ]
  },
  {
   "cell_type": "code",
   "execution_count": 4,
   "metadata": {
    "collapsed": true
   },
   "outputs": [],
   "source": [
    "n_input_layer = features_train.shape[1]\n",
    "n_hidden_layer = 500\n",
    "\n",
    "learning_rate = 1.0\n",
    "\n",
    "n_epoch = 10\n",
    "batch_size = 100\n",
    "\n",
    "test_disp = 10  # no of images in plot"
   ]
  },
  {
   "cell_type": "markdown",
   "metadata": {},
   "source": [
    "Sigmoid function"
   ]
  },
  {
   "cell_type": "code",
   "execution_count": 5,
   "metadata": {
    "collapsed": true
   },
   "outputs": [],
   "source": [
    "def sigmoid(inp):\n",
    "    return 1.0 / (1.0 + np.exp(-inp))"
   ]
  },
  {
   "cell_type": "markdown",
   "metadata": {},
   "source": [
    "function to get random sample from input"
   ]
  },
  {
   "cell_type": "code",
   "execution_count": 6,
   "metadata": {
    "collapsed": true
   },
   "outputs": [],
   "source": [
    "def get_sample(inp):\n",
    "    distr = np.random.uniform(size=inp.shape)\n",
    "    sample = 1.0 * (np.sign(inp - distr) > 0)\n",
    "    return sample"
   ]
  },
  {
   "cell_type": "markdown",
   "metadata": {},
   "source": [
    "#### Function to train network \n",
    "using contrastive-divergence-k(k = 1)"
   ]
  },
  {
   "cell_type": "code",
   "execution_count": 7,
   "metadata": {
    "collapsed": true
   },
   "outputs": [],
   "source": [
    "def train(inp, w, b, c):\n",
    "    # Forward pass\n",
    "    p_h = sigmoid(np.dot(inp, w) + b)\n",
    "    s_h = get_sample(p_h)\n",
    "\n",
    "    # Backward pass\n",
    "    p_v = sigmoid(np.dot(s_h, w.T) + c)\n",
    "    s_v = get_sample(p_v)\n",
    "\n",
    "    p_h1 = sigmoid(np.dot(s_v, w) + b)\n",
    "\n",
    "    # Error function\n",
    "    error = np.mean(0.5 * np.square(s_v - inp))\n",
    "\n",
    "    # Positive phase grad\n",
    "    p_w_change = np.dot(inp.T, s_h)\n",
    "\n",
    "    # Negative phase grad\n",
    "    n_w_change = np.dot(s_v.T, p_h1)\n",
    "\n",
    "    contr_div = (p_w_change - n_w_change) / inp.shape[0]\n",
    "\n",
    "    change_w = contr_div\n",
    "    change_c = np.mean(inp - s_v, 0)\n",
    "    change_b = np.mean(s_h - p_h1, 0)\n",
    "\n",
    "    return error, change_w, change_b, change_c"
   ]
  },
  {
   "cell_type": "markdown",
   "metadata": {},
   "source": [
    "#### Function to regenerate image from input"
   ]
  },
  {
   "cell_type": "code",
   "execution_count": 8,
   "metadata": {
    "collapsed": true
   },
   "outputs": [],
   "source": [
    "def regenerate(inp, w, b, c):\n",
    "    hid = sigmoid(np.dot(inp, w) + b)\n",
    "    rc = sigmoid(np.dot(hid, w.T) + c)\n",
    "    return rc"
   ]
  },
  {
   "cell_type": "markdown",
   "metadata": {},
   "source": [
    "### Train Neural Network"
   ]
  },
  {
   "cell_type": "markdown",
   "metadata": {},
   "source": [
    "Initialize random  Weights and biases"
   ]
  },
  {
   "cell_type": "code",
   "execution_count": 9,
   "metadata": {
    "collapsed": true
   },
   "outputs": [],
   "source": [
    "W = np.random.uniform(0.1, size=(n_input_layer, n_hidden_layer))\n",
    "B = np.random.uniform(0.1, size=n_hidden_layer)\n",
    "C = np.random.uniform(0.1, size=n_input_layer)"
   ]
  },
  {
   "cell_type": "markdown",
   "metadata": {},
   "source": [
    "split into batches"
   ]
  },
  {
   "cell_type": "code",
   "execution_count": 10,
   "metadata": {
    "collapsed": true
   },
   "outputs": [],
   "source": [
    "X = features_train\n",
    "n_batch = X.shape[0] // batch_size\n",
    "X = np.split(X, n_batch)"
   ]
  },
  {
   "cell_type": "markdown",
   "metadata": {},
   "source": [
    "train the network"
   ]
  },
  {
   "cell_type": "code",
   "execution_count": 11,
   "metadata": {},
   "outputs": [
    {
     "name": "stdout",
     "output_type": "stream",
     "text": [
      "*********** Train ***********\n",
      "Epoch: 0, Error: 0.04810881\n",
      "Epoch: 1, Error: 0.03667327\n",
      "Epoch: 2, Error: 0.03323167\n",
      "Epoch: 3, Error: 0.03122020\n",
      "Epoch: 4, Error: 0.02987828\n",
      "Epoch: 5, Error: 0.02887069\n",
      "Epoch: 6, Error: 0.02806680\n",
      "Epoch: 7, Error: 0.02738257\n",
      "Epoch: 8, Error: 0.02690064\n",
      "Epoch: 9, Error: 0.02649677\n"
     ]
    }
   ],
   "source": [
    "print(\"*********** Train ***********\")\n",
    "\n",
    "# Epoch-training\n",
    "for epoch in range(n_epoch):\n",
    "    err = []\n",
    "\n",
    "    # Batch training\n",
    "    for b_idx in range(n_batch):\n",
    "        x = X[b_idx]\n",
    "        e, grad_w, grad_b, grad_c = train(x, W, B, C)\n",
    "\n",
    "        # Adjust Weights\n",
    "        W += learning_rate * grad_w\n",
    "        B += learning_rate * grad_b\n",
    "        C += learning_rate * grad_c\n",
    "\n",
    "        err.append(e)\n",
    "\n",
    "    print(\"Epoch: %d, Error: %.8f\" % (epoch, sum(err) / len(err)))"
   ]
  },
  {
   "cell_type": "markdown",
   "metadata": {},
   "source": [
    "### Reconstruction"
   ]
  },
  {
   "cell_type": "code",
   "execution_count": 12,
   "metadata": {
    "collapsed": true
   },
   "outputs": [],
   "source": [
    "disp_imgs = []\n",
    "for i_no in range(test_disp):\n",
    "    disp_imgs.append(features_test[i_no])\n",
    "    disp_imgs.append(regenerate(features_test[i_no], W, B, C))"
   ]
  },
  {
   "cell_type": "markdown",
   "metadata": {},
   "source": [
    "#### plot output"
   ]
  },
  {
   "cell_type": "code",
   "execution_count": 13,
   "metadata": {},
   "outputs": [
    {
     "data": {
      "image/png": "[encoded data removed]",
      "text/plain": [
       "<matplotlib.figure.Figure at 0x7fc2cd4d3400>"
      ]
     },
     "metadata": {},
     "output_type": "display_data"
    }
   ],
   "source": [
    "plot_images(disp_imgs, \"Restricted Boltzmann Machine\", test_disp)\n",
    "plt.show()"
   ]
  }
 ],
 "metadata": {
  "kernelspec": {
   "display_name": "Python 3",
   "language": "python",
   "name": "python3"
  },
  "language_info": {
   "codemirror_mode": {
    "name": "ipython",
    "version": 3
   },
   "file_extension": ".py",
   "mimetype": "text/x-python",
   "name": "python",
   "nbconvert_exporter": "python",
   "pygments_lexer": "ipython3",
   "version": "3.6.0"
  }
 },
 "nbformat": 4,
 "nbformat_minor": 2
}
