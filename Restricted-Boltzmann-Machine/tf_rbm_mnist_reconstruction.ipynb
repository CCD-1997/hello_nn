{
 "cells": [
  {
   "cell_type": "markdown",
   "metadata": {},
   "source": [
    "# Restricted Boltzmann Machine\n",
    "##### MNIST reconstruction using tensorflow"
   ]
  },
  {
   "cell_type": "markdown",
   "metadata": {},
   "source": [
    "Import dependencies"
   ]
  },
  {
   "cell_type": "code",
   "execution_count": 1,
   "metadata": {
    "collapsed": true
   },
   "outputs": [],
   "source": [
    "import numpy as np\n",
    "import tensorflow as tf\n",
    "from tensorflow.examples.tutorials.mnist import input_data\n",
    "import matplotlib.pyplot as plt\n",
    "%matplotlib inline"
   ]
  },
  {
   "cell_type": "markdown",
   "metadata": {},
   "source": [
    "### Util functions"
   ]
  },
  {
   "cell_type": "markdown",
   "metadata": {},
   "source": [
    "function to plot the images after during testing phase"
   ]
  },
  {
   "cell_type": "code",
   "execution_count": 2,
   "metadata": {
    "collapsed": true
   },
   "outputs": [],
   "source": [
    "def plot_images(images, title, no_i_x, no_i_y=2):\n",
    "    fig = plt.figure(figsize=(5, 15))\n",
    "    fig.canvas.set_window_title(title)\n",
    "    images = np.array(images).reshape(-1, 28, 28)\n",
    "    for i in range(no_i_x):\n",
    "        for j in range(no_i_y):\n",
    "            ax = fig.add_subplot(no_i_x, no_i_y, no_i_x * j + (i + 1))\n",
    "            ax.matshow(images[no_i_x * j + i], cmap=\"gray\")\n",
    "            plt.xticks(np.array([]))\n",
    "            plt.yticks(np.array([]))\n",
    "\n",
    "            if j == 0 and i == 0:\n",
    "                ax.set_title(\"Real\")\n",
    "            elif j == 0 and i == 1:\n",
    "                ax.set_title(\"Reconstructed\")"
   ]
  },
  {
   "cell_type": "markdown",
   "metadata": {},
   "source": [
    "load the mnist dataset from tensorflow.examples"
   ]
  },
  {
   "cell_type": "code",
   "execution_count": 3,
   "metadata": {},
   "outputs": [
    {
     "name": "stdout",
     "output_type": "stream",
     "text": [
      "Extracting MNIST_data/train-images-idx3-ubyte.gz\n",
      "Extracting MNIST_data/train-labels-idx1-ubyte.gz\n",
      "Extracting MNIST_data/t10k-images-idx3-ubyte.gz\n",
      "Extracting MNIST_data/t10k-labels-idx1-ubyte.gz\n"
     ]
    }
   ],
   "source": [
    "mnist = input_data.read_data_sets(\"MNIST_data/\", one_hot=True)\n",
    "features_train, labels_train, features_test, labels_test = \\\n",
    "    mnist.train.images, mnist.train.labels, mnist.test.images, mnist.test.labels"
   ]
  },
  {
   "cell_type": "markdown",
   "metadata": {},
   "source": [
    "### Neural Network Model"
   ]
  },
  {
   "cell_type": "markdown",
   "metadata": {},
   "source": [
    "<br>Hyper-parameters"
   ]
  },
  {
   "cell_type": "code",
   "execution_count": 4,
   "metadata": {
    "collapsed": true
   },
   "outputs": [],
   "source": [
    "n_input_layer = features_train.shape[1]\n",
    "n_hidden_layer = 500\n",
    "\n",
    "learning_rate = 1.0\n",
    "\n",
    "n_epoch = 10\n",
    "batch_size = 100\n",
    "\n",
    "test_disp = 10  # no of images in plot"
   ]
  },
  {
   "cell_type": "markdown",
   "metadata": {},
   "source": [
    "Placeholders"
   ]
  },
  {
   "cell_type": "code",
   "execution_count": 5,
   "metadata": {
    "collapsed": true
   },
   "outputs": [],
   "source": [
    "X = tf.placeholder(tf.float32, [None, n_input_layer])\n",
    "W = tf.placeholder(tf.float32, [n_input_layer, n_hidden_layer])\n",
    "B = tf.placeholder(tf.float32, [n_hidden_layer])\n",
    "C = tf.placeholder(tf.float32, [n_input_layer])"
   ]
  },
  {
   "cell_type": "markdown",
   "metadata": {},
   "source": [
    "function to get random sample from input"
   ]
  },
  {
   "cell_type": "code",
   "execution_count": 6,
   "metadata": {
    "collapsed": true
   },
   "outputs": [],
   "source": [
    "def get_sample(inp):\n",
    "    distr = tf.random_uniform(shape=tf.shape(inp))\n",
    "    sample = tf.nn.relu(tf.sign(inp - distr))\n",
    "    return sample"
   ]
  },
  {
   "cell_type": "markdown",
   "metadata": {},
   "source": [
    "#### Model (Training)\n",
    "using contrastive-divergence-k(k = 1)"
   ]
  },
  {
   "cell_type": "code",
   "execution_count": 7,
   "metadata": {},
   "outputs": [],
   "source": [
    "# Forward pass\n",
    "p_h = tf.nn.sigmoid(tf.add(tf.matmul(X, W), B))\n",
    "s_h = get_sample(p_h)\n",
    "\n",
    "# Backward pass\n",
    "p_v = tf.nn.sigmoid(tf.add(tf.matmul(s_h, tf.transpose(W)), C))\n",
    "s_v = get_sample(p_v)\n",
    "\n",
    "p_h1 = tf.nn.sigmoid(tf.add(tf.matmul(s_v, W), B))\n",
    "\n",
    "# Error function\n",
    "error = 0.5 * tf.reduce_mean(tf.square(tf.subtract(s_v, X)))\n",
    "\n",
    "# Positive phase grad\n",
    "p_w_change = tf.matmul(tf.transpose(X), s_h)\n",
    "\n",
    "# Negative phase grad\n",
    "n_w_change = tf.matmul(tf.transpose(s_v), p_h1)\n",
    "\n",
    "contr_div = tf.subtract(p_w_change, n_w_change) / tf.to_float(tf.shape(X)[0])\n",
    "\n",
    "change_w = contr_div\n",
    "change_c = tf.reduce_mean(tf.subtract(X, s_v), 0)\n",
    "change_b = tf.reduce_mean(tf.subtract(s_h, p_h1), 0)\n",
    "\n",
    "# Adjust Weights\n",
    "new_W = W + learning_rate * change_w\n",
    "new_B = B + learning_rate * change_b\n",
    "new_C = C + learning_rate * change_c"
   ]
  },
  {
   "cell_type": "markdown",
   "metadata": {},
   "source": [
    "#### Model (Reconstruction)"
   ]
  },
  {
   "cell_type": "code",
   "execution_count": 8,
   "metadata": {
    "collapsed": true
   },
   "outputs": [],
   "source": [
    "hid = tf.nn.sigmoid(tf.add(tf.matmul(X, W), B))\n",
    "rc = tf.nn.sigmoid(tf.add(tf.matmul(hid, tf.transpose(W)), C))"
   ]
  },
  {
   "cell_type": "markdown",
   "metadata": {},
   "source": [
    "### Train Neural Network"
   ]
  },
  {
   "cell_type": "markdown",
   "metadata": {},
   "source": [
    "Initialize random  Weights and biases"
   ]
  },
  {
   "cell_type": "code",
   "execution_count": 9,
   "metadata": {
    "collapsed": true
   },
   "outputs": [],
   "source": [
    "w = np.random.uniform(0.1, size=(n_input_layer, n_hidden_layer))\n",
    "b = np.random.uniform(0.1, size=n_hidden_layer)\n",
    "c = np.random.uniform(0.1, size=n_input_layer)"
   ]
  },
  {
   "cell_type": "markdown",
   "metadata": {},
   "source": [
    "split into batches"
   ]
  },
  {
   "cell_type": "code",
   "execution_count": 10,
   "metadata": {
    "collapsed": true
   },
   "outputs": [],
   "source": [
    "n_batch = features_train.shape[0] // batch_size\n",
    "batched_data = np.split(features_train, n_batch)"
   ]
  },
  {
   "cell_type": "markdown",
   "metadata": {},
   "source": [
    "#### Start session"
   ]
  },
  {
   "cell_type": "code",
   "execution_count": 11,
   "metadata": {},
   "outputs": [
    {
     "name": "stdout",
     "output_type": "stream",
     "text": [
      "*********** Train ***********\n",
      "Epoch: 0, Error: 0.04789386\n",
      "Epoch: 1, Error: 0.03652624\n",
      "Epoch: 2, Error: 0.03318628\n",
      "Epoch: 3, Error: 0.03103307\n",
      "Epoch: 4, Error: 0.02963336\n",
      "Epoch: 5, Error: 0.02865732\n",
      "Epoch: 6, Error: 0.02790888\n",
      "Epoch: 7, Error: 0.02735087\n",
      "Epoch: 8, Error: 0.02691417\n",
      "Epoch: 9, Error: 0.02654817\n"
     ]
    }
   ],
   "source": [
    "disp_imgs = []\n",
    "\n",
    "with tf.Session() as sess:\n",
    "    tf.global_variables_initializer().run()\n",
    "    \n",
    "    print(\"*********** Train ***********\")\n",
    "\n",
    "    # Epoch-training\n",
    "    for epoch in range(n_epoch):\n",
    "        err = []\n",
    "\n",
    "        # Batch training\n",
    "        for b_idx in range(n_batch):\n",
    "            e, w, b, c = sess.run([error, new_W, new_B, new_C], feed_dict={\n",
    "                X: batched_data[b_idx], W: w, B: b, C: c})\n",
    "\n",
    "            err.append(e)\n",
    "\n",
    "        print(\"Epoch: %d, Error: %.8f\" % (epoch, sum(err) / len(err)))\n",
    "\n",
    "    # Reconstruction\n",
    "    for i_no in range(test_disp):\n",
    "        reconstd_image = rc.eval({X: features_test[i_no].reshape(1, -1), W: w, B: b, C: c})\n",
    "        disp_imgs.extend(features_test[i_no])\n",
    "        disp_imgs.extend(reconstd_image.reshape(-1))"
   ]
  },
  {
   "cell_type": "markdown",
   "metadata": {},
   "source": [
    "#### plot output"
   ]
  },
  {
   "cell_type": "code",
   "execution_count": 12,
   "metadata": {},
   "outputs": [
    {
     "data": {
      "image/png": "[encoded data removed]",
      "text/plain": [
       "<matplotlib.figure.Figure at 0x7ff92388b4e0>"
      ]
     },
     "metadata": {},
     "output_type": "display_data"
    }
   ],
   "source": [
    "plot_images(disp_imgs, \"Restricted Boltzmann Machine\", test_disp)\n",
    "plt.show()"
   ]
  }
 ],
 "metadata": {
  "kernelspec": {
   "display_name": "Python 3",
   "language": "python",
   "name": "python3"
  },
  "language_info": {
   "codemirror_mode": {
    "name": "ipython",
    "version": 3
   },
   "file_extension": ".py",
   "mimetype": "text/x-python",
   "name": "python",
   "nbconvert_exporter": "python",
   "pygments_lexer": "ipython3",
   "version": "3.6.0"
  }
 },
 "nbformat": 4,
 "nbformat_minor": 2
}
