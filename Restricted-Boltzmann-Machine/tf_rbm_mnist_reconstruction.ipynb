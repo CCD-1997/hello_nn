{
 "cells": [
  {
   "cell_type": "markdown",
   "metadata": {},
   "source": [
    "# Restricted Boltzmann Machine\n",
    "##### MNIST reconstruction using tensorflow"
   ]
  },
  {
   "cell_type": "markdown",
   "metadata": {},
   "source": [
    "Import dependencies"
   ]
  },
  {
   "cell_type": "code",
   "execution_count": 1,
   "metadata": {
    "collapsed": true
   },
   "outputs": [],
   "source": [
    "import numpy as np\n",
    "import tensorflow as tf\n",
    "from tensorflow.examples.tutorials.mnist import input_data\n",
    "import matplotlib.pyplot as plt\n",
    "%matplotlib inline"
   ]
  },
  {
   "cell_type": "markdown",
   "metadata": {},
   "source": [
    "### Util functions"
   ]
  },
  {
   "cell_type": "markdown",
   "metadata": {},
   "source": [
    "function to plot the images after during testing phase"
   ]
  },
  {
   "cell_type": "code",
   "execution_count": 2,
   "metadata": {
    "collapsed": true
   },
   "outputs": [],
   "source": [
    "def plot_images(images, title, no_i_x, no_i_y=2):\n",
    "    fig = plt.figure(figsize=(5, 15))\n",
    "    fig.canvas.set_window_title(title)\n",
    "    images = np.array(images).reshape(-1, 28, 28)\n",
    "    for i in range(no_i_x):\n",
    "        for j in range(no_i_y):\n",
    "            ax = fig.add_subplot(no_i_x, no_i_y, no_i_y * i + (j + 1))\n",
    "            ax.matshow(images[no_i_x * j + i], cmap=\"gray\")\n",
    "            plt.xticks(np.array([]))\n",
    "            plt.yticks(np.array([]))\n",
    "\n",
    "            if j == 0 and i == 0:\n",
    "                ax.set_title(\"Real\")\n",
    "            elif j == 1 and i == 0:\n",
    "                ax.set_title(\"Reconstructed\")"
   ]
  },
  {
   "cell_type": "markdown",
   "metadata": {},
   "source": [
    "load the mnist dataset from tensorflow.examples"
   ]
  },
  {
   "cell_type": "code",
   "execution_count": 3,
   "metadata": {},
   "outputs": [
    {
     "name": "stdout",
     "output_type": "stream",
     "text": [
      "Extracting MNIST_data/train-images-idx3-ubyte.gz\n",
      "Extracting MNIST_data/train-labels-idx1-ubyte.gz\n",
      "Extracting MNIST_data/t10k-images-idx3-ubyte.gz\n",
      "Extracting MNIST_data/t10k-labels-idx1-ubyte.gz\n"
     ]
    }
   ],
   "source": [
    "mnist = input_data.read_data_sets(\"MNIST_data/\", one_hot=True)\n",
    "features_train, features_test, features_valid = \\\n",
    "    mnist.train.images, mnist.test.images, mnist.validation.images"
   ]
  },
  {
   "cell_type": "markdown",
   "metadata": {},
   "source": [
    "### Neural Network Model"
   ]
  },
  {
   "cell_type": "markdown",
   "metadata": {},
   "source": [
    "<br>Hyper-parameters"
   ]
  },
  {
   "cell_type": "code",
   "execution_count": 4,
   "metadata": {
    "collapsed": true
   },
   "outputs": [],
   "source": [
    "n_input_layer = features_train.shape[1]\n",
    "n_hidden_layer = 500\n",
    "\n",
    "learning_rate = 0.05\n",
    "\n",
    "n_epoch = 10\n",
    "batch_size = 100\n",
    "\n",
    "test_disp = 10  # no of images in plot"
   ]
  },
  {
   "cell_type": "markdown",
   "metadata": {},
   "source": [
    "Placeholders"
   ]
  },
  {
   "cell_type": "code",
   "execution_count": 5,
   "metadata": {
    "collapsed": true
   },
   "outputs": [],
   "source": [
    "X = tf.placeholder(tf.float32, [None, n_input_layer])\n",
    "W = tf.placeholder(tf.float32, [n_input_layer, n_hidden_layer])\n",
    "B = tf.placeholder(tf.float32, [n_hidden_layer])\n",
    "C = tf.placeholder(tf.float32, [n_input_layer])"
   ]
  },
  {
   "cell_type": "markdown",
   "metadata": {},
   "source": [
    "function to get random sample from input"
   ]
  },
  {
   "cell_type": "code",
   "execution_count": 6,
   "metadata": {
    "collapsed": true
   },
   "outputs": [],
   "source": [
    "def get_sample(inp):\n",
    "    distr = tf.random_uniform(shape=tf.shape(inp))\n",
    "    sample = tf.nn.relu(tf.sign(inp - distr))\n",
    "    return sample"
   ]
  },
  {
   "cell_type": "markdown",
   "metadata": {},
   "source": [
    "#### Model (Training)\n",
    "using contrastive-divergence-k(k = 1)\n",
    "\n",
    "x = input <br>\n",
    "h(x) = P(h|x) = s_h <br>\n",
    "h(x̄) = P(h) = s_h1 (k=1) <br>\n",
    "W = W + lr(xᵀh(x) − x̄ᵀh(x̄)) <br>\n",
    "B = B + lr(h(x) − h(x̄)) <br>\n",
    "C = C + lr(x − x̄) <br>"
   ]
  },
  {
   "cell_type": "code",
   "execution_count": 7,
   "metadata": {
    "collapsed": true
   },
   "outputs": [],
   "source": [
    "# visible-> hidden\n",
    "p_h = tf.nn.sigmoid(tf.nn.xw_plus_b(X, W, B))\n",
    "s_h = get_sample(p_h)\n",
    "\n",
    "# hidden -> visible\n",
    "p_v = tf.nn.sigmoid(tf.nn.xw_plus_b(s_h, tf.transpose(W), C))  # reconstruction\n",
    "s_v = get_sample(p_v)\n",
    "\n",
    "# visible(1) -> hiddden\n",
    "p_h1 = tf.nn.sigmoid(tf.nn.xw_plus_b(s_v, W, B))\n",
    "s_h1 = get_sample(p_h1)\n",
    "\n",
    "# error - just for measuring correctness of reconstructed image\n",
    "error = tf.losses.mean_squared_error(labels=X, predictions=p_v)\n",
    "\n",
    "# positive and negative phase gradients\n",
    "positive_phase = tf.matmul(tf.transpose(X), s_h)\n",
    "negative_phase = tf.matmul(tf.transpose(s_v), s_h1)\n",
    "\n",
    "contr_div = (positive_phase - negative_phase) / tf.to_float(tf.shape(X)[0])\n",
    "\n",
    "# calculate delta for var\n",
    "change_w = contr_div\n",
    "change_b = tf.reduce_mean((s_h - s_h1), axis=0)\n",
    "change_c = tf.reduce_mean((X - s_v), axis=0)\n",
    "\n",
    "# Adjust Weights\n",
    "new_W = W + learning_rate * change_w\n",
    "new_B = B + learning_rate * change_b\n",
    "new_C = C + learning_rate * change_c"
   ]
  },
  {
   "cell_type": "markdown",
   "metadata": {},
   "source": [
    "### Train Neural Network"
   ]
  },
  {
   "cell_type": "markdown",
   "metadata": {},
   "source": [
    "Initialize random  Weights and biases"
   ]
  },
  {
   "cell_type": "code",
   "execution_count": 8,
   "metadata": {
    "collapsed": true
   },
   "outputs": [],
   "source": [
    "w = np.random.uniform(0.1, size=(n_input_layer, n_hidden_layer))\n",
    "b = np.random.uniform(0.1, size=n_hidden_layer)\n",
    "c = np.random.uniform(0.1, size=n_input_layer)"
   ]
  },
  {
   "cell_type": "markdown",
   "metadata": {},
   "source": [
    "split into batches"
   ]
  },
  {
   "cell_type": "code",
   "execution_count": 9,
   "metadata": {
    "collapsed": true
   },
   "outputs": [],
   "source": [
    "n_batch = features_train.shape[0] // batch_size\n",
    "batched_data = np.split(features_train, n_batch)"
   ]
  },
  {
   "cell_type": "markdown",
   "metadata": {},
   "source": [
    "#### Start session"
   ]
  },
  {
   "cell_type": "code",
   "execution_count": 10,
   "metadata": {},
   "outputs": [
    {
     "name": "stdout",
     "output_type": "stream",
     "text": [
      "*********** Train ***********\n",
      "Epoch: 0, Training-error: 0.04644489, Validation-error: 0.02066885\n",
      "Epoch: 1, Training-error: 0.01913762, Validation-error: 0.01762982\n",
      "Epoch: 2, Training-error: 0.01702874, Validation-error: 0.01610900\n",
      "Epoch: 3, Training-error: 0.01586430, Validation-error: 0.01527168\n",
      "Epoch: 4, Training-error: 0.01507473, Validation-error: 0.01459762\n",
      "Epoch: 5, Training-error: 0.01450215, Validation-error: 0.01412933\n",
      "Epoch: 6, Training-error: 0.01405964, Validation-error: 0.01375704\n",
      "Epoch: 7, Training-error: 0.01367655, Validation-error: 0.01342796\n",
      "Epoch: 8, Training-error: 0.01338743, Validation-error: 0.01311545\n",
      "Epoch: 9, Training-error: 0.01310958, Validation-error: 0.01285918\n",
      "*********** Test ***********\n",
      "Test-error: 0.01286180\n"
     ]
    }
   ],
   "source": [
    "disp_imgs = []\n",
    "\n",
    "with tf.Session() as sess:\n",
    "    tf.global_variables_initializer().run()\n",
    "    \n",
    "    print(\"*********** Train ***********\")\n",
    "\n",
    "    # Epoch-training\n",
    "    for epoch in range(n_epoch):\n",
    "        err = []\n",
    "\n",
    "        # Batch training\n",
    "        for b_idx in range(n_batch):\n",
    "            e, w, b, c = sess.run([error, new_W, new_B, new_C], feed_dict={\n",
    "                X: batched_data[b_idx], W: w, B: b, C: c})\n",
    "\n",
    "            err.append(e)\n",
    "        \n",
    "        val_e = error.eval({X: features_valid, W: w, B: b, C: c})\n",
    "\n",
    "        print(\"Epoch: %d, Training-error: %.8f, Validation-error: %.8f\" %\n",
    "              (epoch, sum(err) / len(err), val_e))\n",
    "    \n",
    "    print(\"*********** Test ***********\")\n",
    "\n",
    "    # Test-Reconstruction\n",
    "    test_e, reconstd_image = sess.run([error, p_v], feed_dict={\n",
    "                X: features_test, W: w, B: b, C: c})\n",
    "    \n",
    "    print(\"Test-error: %.8f\" % test_e)\n",
    "    \n",
    "    disp_imgs.extend(features_test[:test_disp])\n",
    "    disp_imgs.extend(reconstd_image[:test_disp])"
   ]
  },
  {
   "cell_type": "markdown",
   "metadata": {},
   "source": [
    "#### plot output"
   ]
  },
  {
   "cell_type": "code",
   "execution_count": 11,
   "metadata": {},
   "outputs": [
    {
     "data": {
      "image/png": "[encoded data removed]",
      "text/plain": [
       "<matplotlib.figure.Figure at 0x7f5739318550>"
      ]
     },
     "metadata": {},
     "output_type": "display_data"
    }
   ],
   "source": [
    "plot_images(disp_imgs, \"Restricted Boltzmann Machine\", test_disp)\n",
    "plt.show()"
   ]
  }
 ],
 "metadata": {
  "kernelspec": {
   "display_name": "Python 3",
   "language": "python",
   "name": "python3"
  },
  "language_info": {
   "codemirror_mode": {
    "name": "ipython",
    "version": 3
   },
   "file_extension": ".py",
   "mimetype": "text/x-python",
   "name": "python",
   "nbconvert_exporter": "python",
   "pygments_lexer": "ipython3",
   "version": "3.6.2"
  }
 },
 "nbformat": 4,
 "nbformat_minor": 2
}
