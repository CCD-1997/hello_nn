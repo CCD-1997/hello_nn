{
 "cells": [
  {
   "cell_type": "markdown",
   "metadata": {},
   "source": [
    "# De-noising Feedforward Autoencoder\n",
    "##### MNIST reconstruction"
   ]
  },
  {
   "cell_type": "markdown",
   "metadata": {},
   "source": [
    "Import dependencies"
   ]
  },
  {
   "cell_type": "code",
   "execution_count": 1,
   "metadata": {},
   "outputs": [],
   "source": [
    "import numpy as np\n",
    "import tensorflow as tf\n",
    "from tensorflow.examples.tutorials.mnist import input_data\n",
    "import matplotlib.pyplot as plt\n",
    "%matplotlib inline"
   ]
  },
  {
   "cell_type": "markdown",
   "metadata": {},
   "source": [
    "### Util functions"
   ]
  },
  {
   "cell_type": "markdown",
   "metadata": {},
   "source": [
    "function to plot the images after during testing phase"
   ]
  },
  {
   "cell_type": "code",
   "execution_count": 2,
   "metadata": {
    "collapsed": true
   },
   "outputs": [],
   "source": [
    "def plot_images(images, title, no_i_x, no_i_y=3):\n",
    "    fig = plt.figure(figsize=(10, 15))\n",
    "    fig.canvas.set_window_title(title)\n",
    "    images = np.array(images).reshape(-1, 28, 28)\n",
    "    for i in range(no_i_x):\n",
    "        for j in range(no_i_y):\n",
    "            ax = fig.add_subplot(no_i_x, no_i_y, no_i_x * j + (i + 1))\n",
    "            ax.matshow(images[no_i_x * j + i], cmap=\"gray\")\n",
    "            plt.xticks(np.array([]))\n",
    "            plt.yticks(np.array([]))\n",
    "\n",
    "            if j == 0 and i == 0:\n",
    "                ax.set_title(\"Real\")\n",
    "            elif j == 0 and i == 1:\n",
    "                ax.set_title(\"Distorted\")\n",
    "            elif j == 0 and i == 2:\n",
    "                ax.set_title(\"Reconstructed\")"
   ]
  },
  {
   "cell_type": "markdown",
   "metadata": {},
   "source": [
    "function to add noise to input data"
   ]
  },
  {
   "cell_type": "code",
   "execution_count": 3,
   "metadata": {
    "collapsed": true
   },
   "outputs": [],
   "source": [
    "def add_noise(data, mean=0, stddev=0.2):\n",
    "    try:\n",
    "        noise = np.random.normal(mean, stddev, data.shape)\n",
    "    except ValueError:\n",
    "        noise = np.zeros_like(data)\n",
    "\n",
    "    noisy_data = data + noise\n",
    "    clipped_noisy_data = np.clip(noisy_data, 0.0, 1.0)\n",
    "\n",
    "    return clipped_noisy_data"
   ]
  },
  {
   "cell_type": "markdown",
   "metadata": {},
   "source": [
    "load the mmist dataset from tensorflow.examples"
   ]
  },
  {
   "cell_type": "code",
   "execution_count": 4,
   "metadata": {},
   "outputs": [
    {
     "name": "stdout",
     "output_type": "stream",
     "text": [
      "Extracting MNIST_data/train-images-idx3-ubyte.gz\n",
      "Extracting MNIST_data/train-labels-idx1-ubyte.gz\n",
      "Extracting MNIST_data/t10k-images-idx3-ubyte.gz\n",
      "Extracting MNIST_data/t10k-labels-idx1-ubyte.gz\n"
     ]
    }
   ],
   "source": [
    "mnist = input_data.read_data_sets(\"MNIST_data/\", one_hot=True)\n",
    "features_train, features_test, features_valid = \\\n",
    "    mnist.train.images, mnist.test.images, mnist.validation.images"
   ]
  },
  {
   "cell_type": "markdown",
   "metadata": {},
   "source": [
    "### Neural Network Model\n",
    "2 Encoder layers + 2 Decoder layers (all dense neural layers)"
   ]
  },
  {
   "cell_type": "markdown",
   "metadata": {},
   "source": [
    "<br>Hyper-parameters"
   ]
  },
  {
   "cell_type": "code",
   "execution_count": 5,
   "metadata": {
    "collapsed": true
   },
   "outputs": [],
   "source": [
    "n_input_layer = features_train.shape[1]\n",
    "n_enc_hidden_1 = 400\n",
    "n_enc_hidden_2 = 100  # 7.84 times compression\n",
    "n_dec_hidden_1 = 100\n",
    "n_dec_hidden_2 = 400\n",
    "n_output_layer = features_train.shape[1]\n",
    "\n",
    "learning_rate = 0.001\n",
    "\n",
    "n_epoch = 10\n",
    "batch_size = 100\n",
    "\n",
    "test_disp = 10  # no of images in plot"
   ]
  },
  {
   "cell_type": "markdown",
   "metadata": {},
   "source": [
    "input/output placeholders"
   ]
  },
  {
   "cell_type": "code",
   "execution_count": 6,
   "metadata": {
    "collapsed": true
   },
   "outputs": [],
   "source": [
    "X = tf.placeholder(tf.float32, [None, n_input_layer])\n",
    "Y = tf.placeholder(tf.float32, [None, n_output_layer])"
   ]
  },
  {
   "cell_type": "markdown",
   "metadata": {},
   "source": [
    "Weights and biases"
   ]
  },
  {
   "cell_type": "code",
   "execution_count": 7,
   "metadata": {
    "collapsed": true
   },
   "outputs": [],
   "source": [
    "enc_layer_1 = {\n",
    "    'weights': tf.Variable(tf.random_normal([n_input_layer, n_enc_hidden_1], stddev=0.1)),\n",
    "    'biases': tf.Variable(tf.random_normal([n_enc_hidden_1], stddev=0.1))\n",
    "}\n",
    "enc_layer_2 = {\n",
    "    'weights': tf.Variable(tf.random_normal([n_enc_hidden_1, n_enc_hidden_2], stddev=0.1)),\n",
    "    'biases': tf.Variable(tf.random_normal([n_enc_hidden_2], stddev=0.1))\n",
    "}\n",
    "dec_layer_1 = {\n",
    "    'weights': tf.Variable(tf.random_normal([n_dec_hidden_1, n_dec_hidden_2], stddev=0.1)),\n",
    "    'biases': tf.Variable(tf.random_normal([n_dec_hidden_2], stddev=0.1))\n",
    "}\n",
    "dec_layer_2 = {\n",
    "    'weights': tf.Variable(tf.random_normal([n_dec_hidden_2, n_output_layer], stddev=0.1)),\n",
    "    'biases': tf.Variable(tf.random_normal([n_output_layer], stddev=0.1))\n",
    "}"
   ]
  },
  {
   "cell_type": "markdown",
   "metadata": {},
   "source": [
    "#### Model"
   ]
  },
  {
   "cell_type": "markdown",
   "metadata": {},
   "source": [
    "Encoder"
   ]
  },
  {
   "cell_type": "code",
   "execution_count": 8,
   "metadata": {
    "collapsed": true
   },
   "outputs": [],
   "source": [
    "h_enc_1 = tf.add(tf.matmul(X, enc_layer_1['weights']), enc_layer_1['biases'])\n",
    "enc_1 = tf.nn.sigmoid(h_enc_1)\n",
    "\n",
    "h_enc_2 = tf.add(tf.matmul(enc_1, enc_layer_2['weights']), enc_layer_2['biases'])\n",
    "enc_2 = tf.nn.tanh(h_enc_2)"
   ]
  },
  {
   "cell_type": "markdown",
   "metadata": {},
   "source": [
    "Decoder"
   ]
  },
  {
   "cell_type": "code",
   "execution_count": 9,
   "metadata": {
    "collapsed": true
   },
   "outputs": [],
   "source": [
    "h_dec_1 = tf.add(tf.matmul(enc_2, dec_layer_1['weights']), dec_layer_1['biases'])\n",
    "dec_1 = tf.nn.tanh(h_dec_1)\n",
    "\n",
    "h_dec_2 = tf.add(tf.matmul(dec_1, dec_layer_2['weights']), dec_layer_2['biases'])\n",
    "dec_2 = tf.nn.sigmoid(h_dec_2)"
   ]
  },
  {
   "cell_type": "markdown",
   "metadata": {},
   "source": [
    "#### Error and Optimizer"
   ]
  },
  {
   "cell_type": "code",
   "execution_count": 10,
   "metadata": {
    "collapsed": true
   },
   "outputs": [],
   "source": [
    "# mean-squared error\n",
    "cost = tf.losses.mean_squared_error(labels=Y, predictions=dec_2)\n",
    "\n",
    "# adam-optimizer\n",
    "optimizer = tf.train.AdamOptimizer(learning_rate).minimize(cost)"
   ]
  },
  {
   "cell_type": "markdown",
   "metadata": {},
   "source": [
    "### Training"
   ]
  },
  {
   "cell_type": "markdown",
   "metadata": {},
   "source": [
    "Make Batches"
   ]
  },
  {
   "cell_type": "code",
   "execution_count": 11,
   "metadata": {
    "collapsed": true
   },
   "outputs": [],
   "source": [
    "n_batch = features_train.shape[0] // batch_size\n",
    "batched_data = np.split(features_train, n_batch)"
   ]
  },
  {
   "cell_type": "markdown",
   "metadata": {},
   "source": [
    "#### Start session"
   ]
  },
  {
   "cell_type": "code",
   "execution_count": 12,
   "metadata": {},
   "outputs": [
    {
     "name": "stdout",
     "output_type": "stream",
     "text": [
      "*********** Train ***********\n",
      "Epoch: 0  Train-error: 0.0326655690457  Validation-error: 0.0158167\n",
      "Epoch: 1  Train-error: 0.012484143969  Validation-error: 0.0101491\n",
      "Epoch: 2  Train-error: 0.00908060977659  Validation-error: 0.00839202\n",
      "Epoch: 3  Train-error: 0.00768788457001  Validation-error: 0.00725421\n",
      "Epoch: 4  Train-error: 0.0068269499713  Validation-error: 0.00660782\n",
      "Epoch: 5  Train-error: 0.00626942924309  Validation-error: 0.00626707\n",
      "Epoch: 6  Train-error: 0.00589494798248  Validation-error: 0.00591861\n",
      "Epoch: 7  Train-error: 0.00564208484509  Validation-error: 0.00560433\n",
      "Epoch: 8  Train-error: 0.00545295548879  Validation-error: 0.00550049\n",
      "Epoch: 9  Train-error: 0.00528165180405  Validation-error: 0.00549375\n",
      "\n",
      "*********** Test ***********\n",
      "Test Error: 0.00539585\n"
     ]
    }
   ],
   "source": [
    "with tf.Session() as sess:\n",
    "    tf.global_variables_initializer().run()\n",
    "    \n",
    "    print(\"*********** Train ***********\")\n",
    "\n",
    "    # Epoch-training\n",
    "    for epoch in range(n_epoch):\n",
    "        tr_err = []\n",
    "\n",
    "        # Batch training\n",
    "        for b_idx in range(n_batch):\n",
    "            noisy_data = add_noise(batched_data[b_idx])\n",
    "            e, _ = sess.run([cost, optimizer], feed_dict={X: noisy_data, Y: batched_data[b_idx]})\n",
    "\n",
    "            tr_err.append(e)\n",
    "            \n",
    "        noisy_vaild_data = add_noise(features_valid)\n",
    "        val_err = cost.eval({X: noisy_vaild_data, Y: features_valid})\n",
    "\n",
    "        train_err = sum(tr_err) / len(tr_err)\n",
    "        print(\"Epoch:\", epoch, \" Train-error:\", train_err, \" Validation-error:\", val_err)\n",
    "        \n",
    "    print(\"\\n*********** Test ***********\")\n",
    "\n",
    "    # Test the model on test data and try to reconstruct it\n",
    "    noisy_test = add_noise(features_test)\n",
    "    reconstructed_imgs, err = sess.run([dec_2, cost], feed_dict={X: noisy_test, Y: features_test})\n",
    "    disp_imgs = []\n",
    "    for i in range(test_disp):\n",
    "        disp_imgs.append(features_test[i])\n",
    "        disp_imgs.append(noisy_test[i])\n",
    "        disp_imgs.append(reconstructed_imgs[i])\n",
    "\n",
    "    # Plot original, noisy and reconstructed images\n",
    "    print(\"Test Error: %.8f\" % err)"
   ]
  },
  {
   "cell_type": "markdown",
   "metadata": {},
   "source": [
    "#### plot output"
   ]
  },
  {
   "cell_type": "code",
   "execution_count": 13,
   "metadata": {},
   "outputs": [
    {
     "data": {
      "image/png": "[encoded data removed]",
      "text/plain": [
       "<matplotlib.figure.Figure at 0x7fbcea9a2cc0>"
      ]
     },
     "metadata": {},
     "output_type": "display_data"
    }
   ],
   "source": [
    "plot_images(disp_imgs, \"De-noising Auto-encoder\", test_disp)\n",
    "plt.show()"
   ]
  }
 ],
 "metadata": {
  "kernelspec": {
   "display_name": "Python 3",
   "language": "python",
   "name": "python3"
  },
  "language_info": {
   "codemirror_mode": {
    "name": "ipython",
    "version": 3
   },
   "file_extension": ".py",
   "mimetype": "text/x-python",
   "name": "python",
   "nbconvert_exporter": "python",
   "pygments_lexer": "ipython3",
   "version": "3.6.2"
  }
 },
 "nbformat": 4,
 "nbformat_minor": 2
}
