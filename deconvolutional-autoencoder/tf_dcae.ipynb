{
 "cells": [
  {
   "cell_type": "markdown",
   "metadata": {},
   "source": [
    "# De-convolutional Autoencoder"
   ]
  },
  {
   "cell_type": "markdown",
   "metadata": {},
   "source": [
    "Import dependencies"
   ]
  },
  {
   "cell_type": "code",
   "execution_count": 1,
   "metadata": {
    "collapsed": true
   },
   "outputs": [],
   "source": [
    "import numpy as np\n",
    "import tensorflow as tf\n",
    "from tensorflow.examples.tutorials.mnist import input_data\n",
    "import matplotlib.pyplot as plt\n",
    "%matplotlib inline"
   ]
  },
  {
   "cell_type": "markdown",
   "metadata": {},
   "source": [
    "### Util functions"
   ]
  },
  {
   "cell_type": "markdown",
   "metadata": {},
   "source": [
    "function to plot the images after during testing phase"
   ]
  },
  {
   "cell_type": "code",
   "execution_count": 2,
   "metadata": {
    "collapsed": true
   },
   "outputs": [],
   "source": [
    "def plot_images(images, title, no_i_x, no_i_y=2):\n",
    "    fig = plt.figure(figsize=(5, 15))\n",
    "    fig.canvas.set_window_title(title)\n",
    "    images = np.array(images).reshape(-1, 28, 28)\n",
    "    for i in range(no_i_x):\n",
    "        for j in range(no_i_y):\n",
    "            ax = fig.add_subplot(no_i_x, no_i_y, no_i_x * j + (i + 1))\n",
    "            ax.matshow(images[no_i_x * j + i], cmap=\"gray\")\n",
    "            plt.xticks(np.array([]))\n",
    "            plt.yticks(np.array([]))\n",
    "\n",
    "            if j == 0 and i == 0:\n",
    "                ax.set_title(\"Real\")\n",
    "            elif j == 0 and i == 1:\n",
    "                ax.set_title(\"Reconstructed\")"
   ]
  },
  {
   "cell_type": "markdown",
   "metadata": {},
   "source": [
    "load the mmist dataset from tensorflow.examples"
   ]
  },
  {
   "cell_type": "code",
   "execution_count": 3,
   "metadata": {},
   "outputs": [
    {
     "name": "stdout",
     "output_type": "stream",
     "text": [
      "Extracting MNIST_data/train-images-idx3-ubyte.gz\n",
      "Extracting MNIST_data/train-labels-idx1-ubyte.gz\n",
      "Extracting MNIST_data/t10k-images-idx3-ubyte.gz\n",
      "Extracting MNIST_data/t10k-labels-idx1-ubyte.gz\n"
     ]
    }
   ],
   "source": [
    "mnist = input_data.read_data_sets(\"MNIST_data/\", one_hot=True)"
   ]
  },
  {
   "cell_type": "markdown",
   "metadata": {},
   "source": [
    "### Neural Network Model\n",
    "Encoder = 2 convolutional layers + 1 fully connected layer<br>\n",
    "Decoder = 2 de-convolutional layers + 1 fully connected layer<br>"
   ]
  },
  {
   "cell_type": "markdown",
   "metadata": {},
   "source": [
    "<br>Hyper-parameters"
   ]
  },
  {
   "cell_type": "code",
   "execution_count": 4,
   "metadata": {
    "collapsed": true
   },
   "outputs": [],
   "source": [
    "n_image_width = 28\n",
    "n_image_height = 28\n",
    "n_input_pixels = n_image_height * n_image_width\n",
    "filter_width = 5\n",
    "filter_height = 5\n",
    "n_channels = 1  # black\n",
    "\n",
    "conv_1_features = 16\n",
    "conv_2_features = 32\n",
    "\n",
    "final_hid_lay = 196\n",
    "\n",
    "learning_rate = 0.001\n",
    "batch_size = 20\n",
    "\n",
    "images_to_plot = 10"
   ]
  },
  {
   "cell_type": "markdown",
   "metadata": {},
   "source": [
    "input placeholder"
   ]
  },
  {
   "cell_type": "code",
   "execution_count": 5,
   "metadata": {
    "collapsed": true
   },
   "outputs": [],
   "source": [
    "X = tf.placeholder(tf.float32, [None, n_input_pixels])"
   ]
  },
  {
   "cell_type": "markdown",
   "metadata": {},
   "source": [
    "Layer Weights and biases"
   ]
  },
  {
   "cell_type": "code",
   "execution_count": 6,
   "metadata": {},
   "outputs": [],
   "source": [
    "conv_lay_1 = {\n",
    "    'weight': tf.Variable(tf.random_normal(\n",
    "            [filter_height, filter_width, n_channels, conv_1_features], stddev=0.1)),\n",
    "    'bias': tf.Variable(tf.random_normal([conv_1_features], stddev=0.1))\n",
    "}\n",
    "conv_lay_2 = {\n",
    "    'weight': tf.Variable(tf.random_normal(\n",
    "            [filter_height, filter_width, conv_1_features, conv_2_features], stddev=0.1)),\n",
    "    'bias': tf.Variable(tf.random_normal([conv_2_features], stddev=0.1))\n",
    "}\n",
    "fc_enc_lay_1 = {\n",
    "    'weight': tf.Variable(tf.random_normal(\n",
    "            [7 * 7 * conv_2_features, final_hid_lay], stddev=0.1)),\n",
    "    'bias': tf.Variable(tf.random_normal([final_hid_lay], stddev=0.1))\n",
    "}\n",
    "\n",
    "deconv_lay_1 = {\n",
    "    'weight': tf.Variable(tf.random_normal(\n",
    "            [filter_height, filter_width, conv_1_features, conv_2_features], stddev=0.1)),\n",
    "    'bias': tf.Variable(tf.random_normal([conv_1_features], stddev=0.1))\n",
    "}\n",
    "deconv_lay_2 = {\n",
    "    'weight': tf.Variable(tf.random_normal(\n",
    "            [filter_height, filter_width, n_channels, conv_1_features], stddev=0.1)),\n",
    "    'bias': tf.Variable(tf.random_normal([n_channels], stddev=0.1))\n",
    "}\n",
    "fc_dec_lay_2 = {\n",
    "    'weight': tf.Variable(tf.random_normal(\n",
    "            [final_hid_lay, 7 * 7 * conv_2_features], stddev=0.1)),\n",
    "    'bias': tf.Variable(tf.random_normal([7 * 7 * conv_2_features], stddev=0.1))\n",
    "}"
   ]
  },
  {
   "cell_type": "markdown",
   "metadata": {},
   "source": [
    "Encoder -> 2 convoltional layers (without max-pooling)"
   ]
  },
  {
   "cell_type": "code",
   "execution_count": 7,
   "metadata": {},
   "outputs": [],
   "source": [
    "# Resize image to proper shape\n",
    "x_img = tf.reshape(X, [-1, n_image_width, n_image_height,\n",
    "                       n_channels])  # [batch, height, width, channels]\n",
    "\n",
    "conv_1 = tf.nn.conv2d(x_img, conv_lay_1['weight'], strides=[1, 2, 2, 1], padding='SAME')\n",
    "conv_1_op = tf.nn.relu(conv_1 + conv_lay_1['bias'])\n",
    "\n",
    "conv_2 = tf.nn.conv2d(conv_1_op, conv_lay_2['weight'], strides=[1, 2, 2, 1], padding='SAME')\n",
    "conv_2_op = tf.nn.relu(conv_2 + conv_lay_2['bias'])"
   ]
  },
  {
   "cell_type": "markdown",
   "metadata": {},
   "source": [
    "Encoder -> 1 fully connected layer"
   ]
  },
  {
   "cell_type": "code",
   "execution_count": 8,
   "metadata": {},
   "outputs": [],
   "source": [
    "flat_lay = tf.reshape(conv_2_op, [-1, 7 * 7 * conv_2_features])\n",
    "enc_1 = tf.matmul(flat_lay, fc_enc_lay_1['weight']) + fc_enc_lay_1['bias']\n",
    "enc_op = tf.nn.relu(enc_1)"
   ]
  },
  {
   "cell_type": "markdown",
   "metadata": {},
   "source": [
    "Decoder -> 1 fully connected layer"
   ]
  },
  {
   "cell_type": "code",
   "execution_count": 9,
   "metadata": {},
   "outputs": [],
   "source": [
    "dec_1 = tf.matmul(enc_op, fc_dec_lay_2['weight']) + fc_dec_lay_2['bias']\n",
    "dec_flat = tf.nn.relu(dec_1)\n",
    "dec_op = tf.reshape(dec_flat, [-1, 7, 7, conv_2_features])"
   ]
  },
  {
   "cell_type": "markdown",
   "metadata": {},
   "source": [
    "Decoder -> 2 de-convoltional layers"
   ]
  },
  {
   "cell_type": "code",
   "execution_count": 10,
   "metadata": {},
   "outputs": [],
   "source": [
    "dconv_1 = tf.nn.conv2d_transpose(dec_op, deconv_lay_1['weight'], strides=[1, 2, 2, 1],\n",
    "    output_shape=[\n",
    "        batch_size, n_image_width // 2, n_image_height // 2, conv_1_features\n",
    "    ],\n",
    "    padding='SAME')\n",
    "dconv_1_op = tf.nn.relu(dconv_1 + deconv_lay_1['bias'])\n",
    "\n",
    "dconv_2 = tf.nn.conv2d_transpose(dconv_1_op, deconv_lay_2['weight'], strides=[1, 2, 2, 1],\n",
    "    output_shape=[\n",
    "        batch_size, n_image_width, n_image_height, n_channels\n",
    "    ],\n",
    "    padding='SAME')\n",
    "dconv_2_op = tf.nn.relu(dconv_2 + deconv_lay_2['bias'])"
   ]
  },
  {
   "cell_type": "markdown",
   "metadata": {},
   "source": [
    "#### Error and Optimizer"
   ]
  },
  {
   "cell_type": "code",
   "execution_count": 11,
   "metadata": {},
   "outputs": [],
   "source": [
    "# mean-squared error\n",
    "error = tf.reduce_mean(0.5 * tf.square(dconv_2_op - x_img))\n",
    "\n",
    "# adam-optimizer\n",
    "optimizer = tf.train.AdamOptimizer(learning_rate).minimize(error)"
   ]
  },
  {
   "cell_type": "markdown",
   "metadata": {},
   "source": [
    "#### Start Session"
   ]
  },
  {
   "cell_type": "code",
   "execution_count": 12,
   "metadata": {},
   "outputs": [
    {
     "name": "stdout",
     "output_type": "stream",
     "text": [
      "*********** Train ***********\n",
      "Batch: 100 validation-error = 0.018546\n",
      "Batch: 200 validation-error = 0.012491\n",
      "Batch: 300 validation-error = 0.008346\n",
      "Batch: 400 validation-error = 0.007418\n",
      "Batch: 500 validation-error = 0.006778\n",
      "Batch: 600 validation-error = 0.005017\n",
      "Batch: 700 validation-error = 0.005313\n",
      "Batch: 800 validation-error = 0.004810\n",
      "Batch: 900 validation-error = 0.004359\n",
      "Batch: 1000 validation-error = 0.004376\n",
      "Batch: 1100 validation-error = 0.003287\n",
      "Batch: 1200 validation-error = 0.003823\n",
      "Batch: 1300 validation-error = 0.003952\n",
      "Batch: 1400 validation-error = 0.002933\n",
      "Batch: 1500 validation-error = 0.003407\n",
      "Batch: 1600 validation-error = 0.002925\n",
      "Batch: 1700 validation-error = 0.002912\n",
      "Batch: 1800 validation-error = 0.002394\n",
      "Batch: 1900 validation-error = 0.002522\n",
      "Batch: 2000 validation-error = 0.002918\n",
      "Batch: 2100 validation-error = 0.002519\n",
      "Batch: 2200 validation-error = 0.002560\n",
      "Batch: 2300 validation-error = 0.002642\n",
      "Batch: 2400 validation-error = 0.002611\n",
      "Batch: 2500 validation-error = 0.002577\n",
      "Batch: 2600 validation-error = 0.002492\n",
      "Batch: 2700 validation-error = 0.002688\n",
      "*********** Test ***********\n",
      "Test Error: 0.00254873\n"
     ]
    }
   ],
   "source": [
    "disp_imgs = []\n",
    "    \n",
    "with tf.Session() as sess:\n",
    "    tf.global_variables_initializer().run()\n",
    "\n",
    "    print(\"*********** Train ***********\")\n",
    "\n",
    "    train_examples = len(mnist.train.images)\n",
    "\n",
    "    for i in range(train_examples // batch_size):\n",
    "        train_batch = mnist.train.next_batch(batch_size)\n",
    "        _, err = sess.run([optimizer, error], feed_dict={X: train_batch[0]})\n",
    "\n",
    "        if i % 100 == 0 and i != 0:\n",
    "            validation_batch = mnist.validation.next_batch(batch_size)\n",
    "            err = sess.run(error, feed_dict={X: validation_batch[0]})\n",
    "            print(\"Batch: %d validation-error = %f\" % (i, err))\n",
    "\n",
    "    print(\"*********** Test ***********\")\n",
    "    test_batch = mnist.test.next_batch(batch_size)\n",
    "    reconstructed_imgs, err = sess.run(\n",
    "        [dconv_2_op, error], feed_dict={X: test_batch[0]})\n",
    "    \n",
    "    print(\"Test Error: %.8f\" % err)\n",
    "    \n",
    "    for i in range(images_to_plot):\n",
    "        disp_imgs.append(test_batch[0][i].reshape(-1, 28, 28))\n",
    "        disp_imgs.append(reconstructed_imgs[i].reshape(-1, 28, 28))"
   ]
  },
  {
   "cell_type": "markdown",
   "metadata": {},
   "source": [
    "#### plot output"
   ]
  },
  {
   "cell_type": "code",
   "execution_count": 13,
   "metadata": {},
   "outputs": [
    {
     "data": {
      "image/png": "[encoded data removed]",
      "text/plain": [
       "<matplotlib.figure.Figure at 0x7f0430878550>"
      ]
     },
     "metadata": {},
     "output_type": "display_data"
    }
   ],
   "source": [
    "plot_images(disp_imgs, \"Auto-encoder\", images_to_plot)\n",
    "plt.show()"
   ]
  }
 ],
 "metadata": {
  "kernelspec": {
   "display_name": "Python 3",
   "language": "python",
   "name": "python3"
  },
  "language_info": {
   "codemirror_mode": {
    "name": "ipython",
    "version": 3
   },
   "file_extension": ".py",
   "mimetype": "text/x-python",
   "name": "python",
   "nbconvert_exporter": "python",
   "pygments_lexer": "ipython3",
   "version": "3.6.0"
  }
 },
 "nbformat": 4,
 "nbformat_minor": 2
}
