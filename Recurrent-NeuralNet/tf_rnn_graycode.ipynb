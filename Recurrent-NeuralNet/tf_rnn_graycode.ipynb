{
 "cells": [
  {
   "cell_type": "markdown",
   "metadata": {},
   "source": [
    "# Recurrent Neural Network\n",
    "###### Graycode using tensorflow"
   ]
  },
  {
   "cell_type": "markdown",
   "metadata": {},
   "source": [
    "Import dependencies"
   ]
  },
  {
   "cell_type": "code",
   "execution_count": 1,
   "metadata": {
    "collapsed": true
   },
   "outputs": [],
   "source": [
    "import numpy as np\n",
    "import tensorflow as tf"
   ]
  },
  {
   "cell_type": "markdown",
   "metadata": {},
   "source": [
    "### Pre-process data"
   ]
  },
  {
   "cell_type": "code",
   "execution_count": 2,
   "metadata": {
    "collapsed": true
   },
   "outputs": [],
   "source": [
    "# seed random number generators\n",
    "np.random.seed(1)\n",
    "tf.set_random_seed(1)"
   ]
  },
  {
   "cell_type": "code",
   "execution_count": 3,
   "metadata": {
    "collapsed": true
   },
   "outputs": [],
   "source": [
    "total_test_cases = 100\n",
    "train_test_ratio = 0.80\n",
    "\n",
    "tmp_list = []\n",
    "features = []\n",
    "labels = []"
   ]
  },
  {
   "cell_type": "markdown",
   "metadata": {},
   "source": [
    "function to generate graycode of number given bits"
   ]
  },
  {
   "cell_type": "code",
   "execution_count": 4,
   "metadata": {
    "collapsed": true
   },
   "outputs": [],
   "source": [
    "def graycode(x, mx):\n",
    "    return int(bin(mx + x ^ int(x / 2))[3:], 2)"
   ]
  },
  {
   "cell_type": "markdown",
   "metadata": {},
   "source": [
    "generate data (graycode)"
   ]
  },
  {
   "cell_type": "code",
   "execution_count": 5,
   "metadata": {
    "collapsed": true
   },
   "outputs": [],
   "source": [
    "for i in range(total_test_cases):\n",
    "    a = np.random.randint(0, 256)\n",
    "    b = graycode(a, 256)\n",
    "\n",
    "    features.append(a)\n",
    "    labels.append(b)\n",
    "\n",
    "features = np.array(features, dtype=np.uint8).reshape(-1, 1)\n",
    "labels = np.array(labels, dtype=np.uint8).reshape(-1, 1)\n",
    "features = np.unpackbits(features, axis=1)\n",
    "labels = np.unpackbits(labels, axis=1)\n",
    "\n",
    "features = np.expand_dims(features, axis=2)\n",
    "labels = np.expand_dims(labels, axis=2)"
   ]
  },
  {
   "cell_type": "markdown",
   "metadata": {},
   "source": [
    "split into train-test set and transpose the array"
   ]
  },
  {
   "cell_type": "code",
   "execution_count": 6,
   "metadata": {
    "collapsed": true
   },
   "outputs": [],
   "source": [
    "features_train = np.transpose(np.array(features[:int(train_test_ratio * len(features))]), [1, 0, 2])\n",
    "features_test = np.transpose(np.array(features[int(train_test_ratio * len(features)):]), [1, 0, 2])\n",
    "\n",
    "labels_train = np.transpose(labels[:int(train_test_ratio * len(labels))], [1, 0, 2])\n",
    "labels_test = np.transpose(labels[int(train_test_ratio * len(labels)):], [1, 0, 2])"
   ]
  },
  {
   "cell_type": "markdown",
   "metadata": {},
   "source": [
    "## Neural Network"
   ]
  },
  {
   "cell_type": "markdown",
   "metadata": {},
   "source": [
    "hyper-parameters"
   ]
  },
  {
   "cell_type": "code",
   "execution_count": 7,
   "metadata": {
    "collapsed": true
   },
   "outputs": [],
   "source": [
    "n_input_neurons = 1\n",
    "n_rnn_neurons = 8\n",
    "n_output_neurons = 1\n",
    "sequence_len = 8\n",
    "\n",
    "learning_rate = 0.01\n",
    "\n",
    "n_epochs = 100"
   ]
  },
  {
   "cell_type": "markdown",
   "metadata": {},
   "source": [
    "input/output placeholders"
   ]
  },
  {
   "cell_type": "code",
   "execution_count": 8,
   "metadata": {
    "collapsed": true
   },
   "outputs": [],
   "source": [
    "X = tf.placeholder(tf.float32, [sequence_len, None, n_input_neurons])\n",
    "Y = tf.placeholder(tf.float32, [sequence_len, None, n_output_neurons])"
   ]
  },
  {
   "cell_type": "markdown",
   "metadata": {},
   "source": [
    "weights and biases"
   ]
  },
  {
   "cell_type": "code",
   "execution_count": 9,
   "metadata": {
    "collapsed": true
   },
   "outputs": [],
   "source": [
    "layer_op = {\n",
    "    'weight': tf.Variable(tf.random_normal([n_rnn_neurons, n_output_neurons], stddev=0.1)),\n",
    "    'bias': tf.Variable(tf.random_normal([n_output_neurons], stddev=0.1))\n",
    "}"
   ]
  },
  {
   "cell_type": "markdown",
   "metadata": {},
   "source": [
    "#### Model"
   ]
  },
  {
   "cell_type": "code",
   "execution_count": 10,
   "metadata": {
    "collapsed": true
   },
   "outputs": [],
   "source": [
    "rnn_cell = tf.contrib.rnn.BasicRNNCell(n_rnn_neurons)\n",
    "rnn_ops, rnn_states = tf.nn.dynamic_rnn(rnn_cell, X, time_major=True, dtype=tf.float32)\n",
    "\n",
    "pred_op = tf.map_fn(lambda x: tf.nn.sigmoid(tf.matmul(x, layer_op['weight']) + layer_op['bias']), rnn_ops)"
   ]
  },
  {
   "cell_type": "markdown",
   "metadata": {},
   "source": [
    "#### Error and Optimizer"
   ]
  },
  {
   "cell_type": "code",
   "execution_count": 11,
   "metadata": {
    "collapsed": true
   },
   "outputs": [],
   "source": [
    "# mean-squared error\n",
    "error = tf.reduce_mean(0.5 * tf.square(pred_op - Y))\n",
    "\n",
    "# adam-optimizer\n",
    "optimizer = tf.train.AdamOptimizer(learning_rate).minimize(error)"
   ]
  },
  {
   "cell_type": "markdown",
   "metadata": {},
   "source": [
    "#### Start Session"
   ]
  },
  {
   "cell_type": "code",
   "execution_count": 12,
   "metadata": {},
   "outputs": [
    {
     "name": "stdout",
     "output_type": "stream",
     "text": [
      "########## TRAIN ##########\n",
      "Epoch: 0  Error: 0.12597\n",
      "Epoch: 10  Error: 0.121528\n",
      "Epoch: 20  Error: 0.116221\n",
      "Epoch: 30  Error: 0.10926\n",
      "Epoch: 40  Error: 0.0992811\n",
      "Epoch: 50  Error: 0.08634\n",
      "Epoch: 60  Error: 0.0719298\n",
      "Epoch: 70  Error: 0.058572\n",
      "Epoch: 80  Error: 0.0472783\n",
      "Epoch: 90  Error: 0.0373565\n",
      "\n",
      "########## TEST ##########\n",
      "15 => 8 \t -->  True \n",
      "64 => 96 \t -->  True \n",
      "196 => 166 \t -->  True \n",
      "25 => 21 \t -->  True \n",
      "111 => 88 \t -->  True \n",
      "226 => 147 \t -->  True \n",
      "215 => 188 \t -->  True \n",
      "135 => 196 \t -->  True \n",
      "26 => 23 \t -->  True \n",
      "153 => 213 \t -->  True \n",
      "104 => 92 \t -->  True \n",
      "22 => 29 \t -->  True \n",
      "9 => 13 \t -->  True \n",
      "195 => 162 \t -->  True \n",
      "231 => 148 \t -->  True \n",
      "126 => 65 \t -->  True \n",
      "23 => 28 \t -->  True \n",
      "125 => 67 \t -->  True \n",
      "100 => 86 \t -->  True \n",
      "155 => 214 \t -->  True \n",
      "\n",
      "Success: 20/20, Accuracy = 100.000000\n"
     ]
    }
   ],
   "source": [
    "with tf.Session() as sess:\n",
    "    tf.global_variables_initializer().run()\n",
    "\n",
    "    print(\"########## TRAIN ##########\")\n",
    "\n",
    "    # Epoch training\n",
    "    for epoch in range(n_epochs):\n",
    "        _, err = sess.run([optimizer, error], feed_dict={X: features_train, Y: labels_train})\n",
    "        \n",
    "        if epoch % 10 == 0:\n",
    "            print(\"Epoch:\", epoch, \" Error:\", err)\n",
    "\n",
    "    print(\"\\n########## TEST ##########\")\n",
    "\n",
    "    op = pred_op.eval({X: features_test})\n",
    "    op = (op > 0.5).astype(int)\n",
    "    \n",
    "    op = np.packbits(op, 0)[0]\n",
    "    a = np.packbits(features_test, 0)[0]\n",
    "    b = np.packbits(labels_test, 0)[0]\n",
    "    \n",
    "    success = 0\n",
    "    \n",
    "    for i in range(len(op)):\n",
    "        \n",
    "        if b[i] == op[i]:\n",
    "            success += 1\n",
    "            \n",
    "        print(\"%d => %d \\t --> %5s \" % (a[i], op[i], (b[i] == op[i])[0]))\n",
    "            \n",
    "    print(\"\\nSuccess: %d/%d, Accuracy = %f\" % (success, len(op), success / len(op) * 100))\n"
   ]
  }
 ],
 "metadata": {
  "kernelspec": {
   "display_name": "Python 3",
   "language": "python",
   "name": "python3"
  },
  "language_info": {
   "codemirror_mode": {
    "name": "ipython",
    "version": 3
   },
   "file_extension": ".py",
   "mimetype": "text/x-python",
   "name": "python",
   "nbconvert_exporter": "python",
   "pygments_lexer": "ipython3",
   "version": "3.6.0"
  }
 },
 "nbformat": 4,
 "nbformat_minor": 2
}
