{
 "cells": [
  {
   "cell_type": "markdown",
   "metadata": {},
   "source": [
    "# Recurrent Neural Network (LSTM)\n",
    "###### TImeseries(climate) using tensorflow"
   ]
  },
  {
   "cell_type": "markdown",
   "metadata": {},
   "source": [
    "Import dependencies"
   ]
  },
  {
   "cell_type": "code",
   "execution_count": 1,
   "metadata": {
    "collapsed": true
   },
   "outputs": [],
   "source": [
    "import numpy as np\n",
    "import tensorflow as tf\n",
    "import matplotlib.pyplot as plt\n",
    "%matplotlib inline"
   ]
  },
  {
   "cell_type": "markdown",
   "metadata": {},
   "source": [
    "### Pre-process data"
   ]
  },
  {
   "cell_type": "code",
   "execution_count": 2,
   "metadata": {
    "collapsed": true
   },
   "outputs": [],
   "source": [
    "# seed random number generators\n",
    "np.random.seed(1)\n",
    "tf.set_random_seed(1)"
   ]
  },
  {
   "cell_type": "code",
   "execution_count": 3,
   "metadata": {
    "collapsed": true
   },
   "outputs": [],
   "source": [
    "# Paramaters\n",
    "seq_len = 25  # Sequence Length\n",
    "train_test_ratio = 0.7"
   ]
  },
  {
   "cell_type": "code",
   "execution_count": 4,
   "metadata": {
    "collapsed": true
   },
   "outputs": [],
   "source": [
    "time_series = []  # float values in ppm\n",
    "time_stamps = []  # string corresponding to year-month"
   ]
  },
  {
   "cell_type": "markdown",
   "metadata": {},
   "source": [
    "read from data from csv file"
   ]
  },
  {
   "cell_type": "code",
   "execution_count": 5,
   "metadata": {},
   "outputs": [],
   "source": [
    "with open('datasets/co2-ppm-mauna-loa-19651980.csv') as f:\n",
    "    skipped_line = False\n",
    "    for line in f.readlines():\n",
    "        if not skipped_line:\n",
    "            skipped_line = True\n",
    "            continue\n",
    "        else:\n",
    "            try:\n",
    "                line = line.strip().split(',')\n",
    "                time_series.append([float(line[1])])\n",
    "                time_stamps.append(line[0].strip('\"'))\n",
    "            except Exception as e:\n",
    "                break"
   ]
  },
  {
   "cell_type": "markdown",
   "metadata": {},
   "source": [
    "Scale data"
   ]
  },
  {
   "cell_type": "code",
   "execution_count": 6,
   "metadata": {
    "collapsed": true
   },
   "outputs": [],
   "source": [
    "ts_min = np.min(time_series)\n",
    "ts_max = np.max(time_series)\n",
    "\n",
    "time_series = (time_series - ts_min) / (ts_max - ts_min)"
   ]
  },
  {
   "cell_type": "markdown",
   "metadata": {},
   "source": [
    "Split data into train and test"
   ]
  },
  {
   "cell_type": "code",
   "execution_count": 7,
   "metadata": {
    "collapsed": true
   },
   "outputs": [],
   "source": [
    "train_time_series = time_series[:int(len(time_series) * train_test_ratio)]\n",
    "test_time_series = time_series[int(len(time_series) * train_test_ratio) - 1:]"
   ]
  },
  {
   "cell_type": "markdown",
   "metadata": {},
   "source": [
    "Creates sequences from data"
   ]
  },
  {
   "cell_type": "code",
   "execution_count": 8,
   "metadata": {
    "collapsed": true
   },
   "outputs": [],
   "source": [
    "def create_dataset(data, len_seq):\n",
    "    features = []\n",
    "    labels = []\n",
    "    for i in range(len(data) - len_seq):\n",
    "        features.append(data[i:i + len_seq])\n",
    "        labels.append(data[i + len_seq])\n",
    "    return features, labels\n",
    "\n",
    "\n",
    "trainX, trainY = create_dataset(train_time_series, seq_len)\n",
    "testX, testY = create_dataset(np.concatenate((trainX[-1], test_time_series)), seq_len)"
   ]
  },
  {
   "cell_type": "markdown",
   "metadata": {},
   "source": [
    "## Neural Network"
   ]
  },
  {
   "cell_type": "markdown",
   "metadata": {},
   "source": [
    "hyper-parameters"
   ]
  },
  {
   "cell_type": "code",
   "execution_count": 9,
   "metadata": {
    "collapsed": true
   },
   "outputs": [],
   "source": [
    "n_rnn_neurons = 50\n",
    "n_input_neurons = 1\n",
    "n_output_neurons = 1\n",
    "\n",
    "learn_rate = 0.01\n",
    "\n",
    "n_epoch = 1000"
   ]
  },
  {
   "cell_type": "markdown",
   "metadata": {},
   "source": [
    "input/output placeholders"
   ]
  },
  {
   "cell_type": "code",
   "execution_count": 10,
   "metadata": {
    "collapsed": true
   },
   "outputs": [],
   "source": [
    "X = tf.placeholder(tf.float32, [None, seq_len, n_input_neurons])\n",
    "Y = tf.placeholder(tf.float32, [None, n_output_neurons])"
   ]
  },
  {
   "cell_type": "markdown",
   "metadata": {},
   "source": [
    "Weights and biases for final fully connected layer"
   ]
  },
  {
   "cell_type": "code",
   "execution_count": 11,
   "metadata": {
    "collapsed": true
   },
   "outputs": [],
   "source": [
    "layer_op = {\n",
    "    'weight':\n",
    "        tf.Variable(tf.random_normal([n_rnn_neurons, n_output_neurons], stddev=1)),\n",
    "    'bias':\n",
    "        tf.Variable(tf.random_normal([n_output_neurons], stddev=1))\n",
    "}"
   ]
  },
  {
   "cell_type": "markdown",
   "metadata": {},
   "source": [
    "#### Model"
   ]
  },
  {
   "cell_type": "code",
   "execution_count": 12,
   "metadata": {
    "collapsed": true
   },
   "outputs": [],
   "source": [
    "# lstm + droput layer\n",
    "cell = tf.contrib.rnn.BasicLSTMCell(n_rnn_neurons)\n",
    "cell = tf.contrib.rnn.DropoutWrapper(cell, output_keep_prob=0.7)\n",
    "lstm_op, _ = tf.nn.dynamic_rnn(cell, X, dtype=tf.float32)\n",
    "\n",
    "# Just connect last output of hidden layer to fully connected layer\n",
    "op = tf.map_fn(lambda x: x[-1], lstm_op)\n",
    "final_op = tf.nn.sigmoid(tf.matmul(op, layer_op['weight']) + layer_op['bias'])"
   ]
  },
  {
   "cell_type": "markdown",
   "metadata": {},
   "source": [
    "#### Error and Optimizer"
   ]
  },
  {
   "cell_type": "code",
   "execution_count": 13,
   "metadata": {
    "collapsed": true
   },
   "outputs": [],
   "source": [
    "# mean-squared error\n",
    "error = tf.reduce_mean(0.5 * tf.square(final_op - Y))\n",
    "\n",
    "# adam-optimizer\n",
    "optimizer = tf.train.AdamOptimizer(learn_rate).minimize(error)"
   ]
  },
  {
   "cell_type": "markdown",
   "metadata": {},
   "source": [
    "#### Start Session"
   ]
  },
  {
   "cell_type": "code",
   "execution_count": 14,
   "metadata": {},
   "outputs": [
    {
     "name": "stdout",
     "output_type": "stream",
     "text": [
      "*********** Train ***********\n",
      "Epoch : 0 Error = 0.027650\n",
      "Epoch : 100 Error = 0.000829\n",
      "Epoch : 200 Error = 0.000361\n",
      "Epoch : 300 Error = 0.000440\n",
      "Epoch : 400 Error = 0.000242\n",
      "Epoch : 500 Error = 0.000254\n",
      "Epoch : 600 Error = 0.000373\n",
      "Epoch : 700 Error = 0.000220\n",
      "Epoch : 800 Error = 0.000193\n",
      "Epoch : 900 Error = 0.000241\n",
      "\n",
      "*********** Test ***********\n",
      "Testing Error : 0.002321\n"
     ]
    }
   ],
   "source": [
    "with tf.Session() as sess:\n",
    "    tf.global_variables_initializer().run()\n",
    "\n",
    "    print(\"*********** Train ***********\")\n",
    "\n",
    "    for epoch in range(n_epoch):\n",
    "        _, err = sess.run([optimizer, error], feed_dict={X: trainX, Y: trainY})\n",
    "\n",
    "        if epoch % 100 == 0:\n",
    "            print(\"Epoch : %d Error = %f\" % (epoch, err))\n",
    "\n",
    "    print(\"\\n*********** Test ***********\")\n",
    "\n",
    "    err, resultt = sess.run([error, final_op], feed_dict={X: testX, Y: testY})\n",
    "    print(\"Testing Error : %f\" % err)\n",
    "    \n",
    "    # Predict futur values with continuous data\n",
    "    inp = trainX[-1].flatten().tolist()\n",
    "    resultp = []\n",
    "\n",
    "    for i in range(len(test_time_series)):\n",
    "        op = final_op.eval({X: np.reshape(inp, [1, -1, 1])})\n",
    "        inp.append(op[0][0])\n",
    "        resultp.append(op[0][0])\n",
    "        del inp[0]"
   ]
  },
  {
   "cell_type": "markdown",
   "metadata": {},
   "source": [
    "#### Plot test and prediction output"
   ]
  },
  {
   "cell_type": "code",
   "execution_count": 15,
   "metadata": {},
   "outputs": [
    {
     "data": {
      "image/png": "[encoded data removed]",
      "text/plain": [
       "<matplotlib.figure.Figure at 0x7eff0680e5f8>"
      ]
     },
     "metadata": {},
     "output_type": "display_data"
    }
   ],
   "source": [
    "plt.figure(figsize=(12, 8))\n",
    "\n",
    "plt.plot(\n",
    "    train_time_series * (ts_max - ts_min) + ts_min,\n",
    "    'b',\n",
    "    label='training data')\n",
    "plt.plot(\n",
    "    np.arange(len(train_time_series) - 1, len(time_series)),\n",
    "    test_time_series * (ts_max - ts_min) + ts_min,\n",
    "    'c',\n",
    "    label='expected data')\n",
    "plt.plot(\n",
    "    np.arange(len(train_time_series) - 1, len(time_series)),\n",
    "    resultt * (ts_max - ts_min) + ts_min,\n",
    "    'm',\n",
    "    label='test output')\n",
    "plt.plot(\n",
    "    np.arange(len(train_time_series) - 1, len(time_series)),\n",
    "    np.array(resultp) * (ts_max - ts_min) + ts_min,\n",
    "    'r',\n",
    "    label='continous prediction')\n",
    "\n",
    "plt.xticks(\n",
    "    np.arange(0, len(time_series), 12),\n",
    "    time_stamps[::12],\n",
    "    rotation=70,\n",
    "    fontsize=7)\n",
    "plt.xlabel('Month')\n",
    "plt.ylabel('CO2 (ppm)')\n",
    "plt.legend(loc='upper left')\n",
    "plt.show()"
   ]
  }
 ],
 "metadata": {
  "kernelspec": {
   "display_name": "Python 3",
   "language": "python",
   "name": "python3"
  },
  "language_info": {
   "codemirror_mode": {
    "name": "ipython",
    "version": 3
   },
   "file_extension": ".py",
   "mimetype": "text/x-python",
   "name": "python",
   "nbconvert_exporter": "python",
   "pygments_lexer": "ipython3",
   "version": "3.6.0"
  }
 },
 "nbformat": 4,
 "nbformat_minor": 2
}
