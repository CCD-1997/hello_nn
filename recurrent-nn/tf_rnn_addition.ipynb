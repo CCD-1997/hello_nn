{
 "cells": [
  {
   "cell_type": "markdown",
   "metadata": {},
   "source": [
    "# Recurrent Neural Network\n",
    "###### Addition using tensorflow"
   ]
  },
  {
   "cell_type": "markdown",
   "metadata": {},
   "source": [
    "Import dependencies"
   ]
  },
  {
   "cell_type": "code",
   "execution_count": 1,
   "metadata": {
    "collapsed": true
   },
   "outputs": [],
   "source": [
    "import numpy as np\n",
    "import tensorflow as tf"
   ]
  },
  {
   "cell_type": "markdown",
   "metadata": {},
   "source": [
    "### Pre-process data"
   ]
  },
  {
   "cell_type": "code",
   "execution_count": 2,
   "metadata": {
    "collapsed": true
   },
   "outputs": [],
   "source": [
    "# seed random number generators\n",
    "np.random.seed(1)\n",
    "tf.set_random_seed(1)"
   ]
  },
  {
   "cell_type": "code",
   "execution_count": 3,
   "metadata": {
    "collapsed": true
   },
   "outputs": [],
   "source": [
    "total_test_cases = 1000\n",
    "train_test_ratio = 0.8\n",
    "disp_test = 20\n",
    "\n",
    "tmp_list = []\n",
    "features = []\n",
    "labels = []"
   ]
  },
  {
   "cell_type": "markdown",
   "metadata": {},
   "source": [
    "function to reverse bits of a number"
   ]
  },
  {
   "cell_type": "code",
   "execution_count": 4,
   "metadata": {
    "collapsed": true
   },
   "outputs": [],
   "source": [
    "def reverse_bits(n, n_bits):\n",
    "    rev = 0\n",
    "    for i in range(n_bits):\n",
    "        if n & (1 << i):\n",
    "            rev |= 1 << ((n_bits - 1) - i)\n",
    "    return rev"
   ]
  },
  {
   "cell_type": "markdown",
   "metadata": {},
   "source": [
    "generate data (addition)"
   ]
  },
  {
   "cell_type": "code",
   "execution_count": 5,
   "metadata": {
    "collapsed": true
   },
   "outputs": [],
   "source": [
    "for i in range(total_test_cases):\n",
    "    a = np.random.randint(0, 128)\n",
    "    b = np.random.randint(0, 128)\n",
    "    c = a + b\n",
    "\n",
    "    a = reverse_bits(a, 8)\n",
    "    b = reverse_bits(b, 8)\n",
    "    c = reverse_bits(c, 8)\n",
    "\n",
    "    features.append([a, b])\n",
    "    labels.append(c)\n",
    "\n",
    "features = np.array(features, dtype=np.uint8).reshape(-1, 1)\n",
    "labels = np.array(labels, dtype=np.uint8).reshape(-1, 1)\n",
    "features = np.unpackbits(features, axis=1)\n",
    "labels = np.unpackbits(labels, axis=1)\n",
    "\n",
    "labels = np.expand_dims(labels, 2)\n",
    "\n",
    "for i in range(len(labels)):\n",
    "    tmp_list.append([features[2 * i], features[2 * i + 1]])\n",
    "\n",
    "features = np.array(tmp_list)"
   ]
  },
  {
   "cell_type": "markdown",
   "metadata": {},
   "source": [
    "split into train-test set and transpose the array"
   ]
  },
  {
   "cell_type": "code",
   "execution_count": 6,
   "metadata": {
    "collapsed": true
   },
   "outputs": [],
   "source": [
    "features_train = np.transpose(features[:int(train_test_ratio * len(features))], [2, 0, 1])\n",
    "features_test = np.transpose(features[int(train_test_ratio * len(features)):], [2, 0, 1])\n",
    "\n",
    "labels_train = np.transpose(labels[:int(train_test_ratio * len(labels))], [1, 0, 2])\n",
    "labels_test = np.transpose(labels[int(train_test_ratio * len(labels)):], [1, 0, 2])"
   ]
  },
  {
   "cell_type": "markdown",
   "metadata": {},
   "source": [
    "## Neural Network"
   ]
  },
  {
   "cell_type": "markdown",
   "metadata": {},
   "source": [
    "hyper-parameters"
   ]
  },
  {
   "cell_type": "code",
   "execution_count": 7,
   "metadata": {
    "collapsed": true
   },
   "outputs": [],
   "source": [
    "n_input_neurons = 2\n",
    "n_rnn_neurons = 12\n",
    "n_output_neurons = 1\n",
    "sequence_len = 8\n",
    "\n",
    "learning_rate = 0.01\n",
    "\n",
    "n_epochs = 100"
   ]
  },
  {
   "cell_type": "markdown",
   "metadata": {},
   "source": [
    "input/output placeholders"
   ]
  },
  {
   "cell_type": "code",
   "execution_count": 8,
   "metadata": {
    "collapsed": true
   },
   "outputs": [],
   "source": [
    "X = tf.placeholder(tf.float32, [sequence_len, None, n_input_neurons])\n",
    "Y = tf.placeholder(tf.float32, [sequence_len, None, n_output_neurons])"
   ]
  },
  {
   "cell_type": "markdown",
   "metadata": {},
   "source": [
    "weights and biases"
   ]
  },
  {
   "cell_type": "code",
   "execution_count": 9,
   "metadata": {
    "collapsed": true
   },
   "outputs": [],
   "source": [
    "layer_op = {\n",
    "    'weight': tf.Variable(tf.random_normal([n_rnn_neurons, n_output_neurons], stddev=0.1)),\n",
    "    'bias': tf.Variable(tf.random_normal([n_output_neurons], stddev=0.1))\n",
    "}"
   ]
  },
  {
   "cell_type": "markdown",
   "metadata": {},
   "source": [
    "#### Model"
   ]
  },
  {
   "cell_type": "code",
   "execution_count": 10,
   "metadata": {},
   "outputs": [],
   "source": [
    "rnn_cell = tf.contrib.rnn.BasicRNNCell(n_rnn_neurons)\n",
    "rnn_ops, rnn_states = tf.nn.dynamic_rnn(rnn_cell, X, time_major=True, dtype=tf.float32)\n",
    "\n",
    "pred_op = tf.map_fn(lambda x: tf.nn.sigmoid(tf.matmul(x, layer_op['weight']) + layer_op['bias']), rnn_ops)"
   ]
  },
  {
   "cell_type": "markdown",
   "metadata": {},
   "source": [
    "#### Error and Optimizer"
   ]
  },
  {
   "cell_type": "code",
   "execution_count": 11,
   "metadata": {
    "collapsed": true
   },
   "outputs": [],
   "source": [
    "# mean-squared error\n",
    "error = tf.reduce_mean(0.5 * tf.square(pred_op - Y))\n",
    "\n",
    "# adam-optimizer\n",
    "optimizer = tf.train.AdamOptimizer(learning_rate).minimize(error)"
   ]
  },
  {
   "cell_type": "markdown",
   "metadata": {},
   "source": [
    "#### Start Session"
   ]
  },
  {
   "cell_type": "code",
   "execution_count": 12,
   "metadata": {},
   "outputs": [
    {
     "name": "stdout",
     "output_type": "stream",
     "text": [
      "########## TRAIN ##########\n",
      "Epoch: 0  Error: 0.125607\n",
      "Epoch: 10  Error: 0.123912\n",
      "Epoch: 20  Error: 0.12229\n",
      "Epoch: 30  Error: 0.120747\n",
      "Epoch: 40  Error: 0.117637\n",
      "Epoch: 50  Error: 0.110348\n",
      "Epoch: 60  Error: 0.0956172\n",
      "Epoch: 70  Error: 0.0716852\n",
      "Epoch: 80  Error: 0.0418827\n",
      "Epoch: 90  Error: 0.0218792\n",
      "\n",
      "########## TEST ##########\n",
      "13 + 126 = 139 \t -->  True \n",
      "11 + 42 = 53 \t -->  True \n",
      "10 + 88 = 98 \t -->  True \n",
      "24 + 47 = 71 \t -->  True \n",
      "121 + 68 = 189 \t -->  True \n",
      "43 + 91 = 134 \t -->  True \n",
      "121 + 13 = 134 \t -->  True \n",
      "6 + 2 = 8 \t -->  True \n",
      "67 + 93 = 160 \t -->  True \n",
      "106 + 4 = 110 \t -->  True \n",
      "28 + 35 = 63 \t -->  True \n",
      "101 + 82 = 183 \t -->  True \n",
      "102 + 77 = 179 \t -->  True \n",
      "46 + 78 = 124 \t -->  True \n",
      "105 + 6 = 111 \t -->  True \n",
      "91 + 80 = 171 \t -->  True \n",
      "20 + 23 = 43 \t -->  True \n",
      "63 + 99 = 162 \t -->  True \n",
      "71 + 6 = 77 \t -->  True \n",
      "21 + 64 = 85 \t -->  True \n",
      "\n",
      "Success: 200/200, Accuracy = 100.000000\n"
     ]
    }
   ],
   "source": [
    "with tf.Session() as sess:\n",
    "    tf.global_variables_initializer().run()\n",
    "\n",
    "    print(\"########## TRAIN ##########\")\n",
    "\n",
    "    # Epoch training\n",
    "    for epoch in range(n_epochs):\n",
    "        _, err = sess.run([optimizer, error], feed_dict={X: features_train, Y: labels_train})\n",
    "          \n",
    "        if epoch % 10 == 0:\n",
    "            print(\"Epoch:\", epoch, \" Error:\", err)\n",
    "\n",
    "    print(\"\\n########## TEST ##########\")\n",
    "\n",
    "    op = pred_op.eval({X: features_test})\n",
    "    op = np.transpose((op > 0.5).astype(int), [1, 0, 2])\n",
    "    op = np.packbits(op)\n",
    "    op = [reverse_bits(x, 8) for x in op]\n",
    "    \n",
    "    c = np.transpose(labels_test, [1, 0, 2])\n",
    "    c = np.packbits(c)\n",
    "    c = [reverse_bits(x, 8) for x in c]\n",
    "    \n",
    "    a = features_test[:, :, 0]\n",
    "    a = np.transpose(a, [1, 0])\n",
    "    a = np.packbits(a)\n",
    "    a = [reverse_bits(x, 8) for x in a]\n",
    "    \n",
    "    b = features_test[:, :, 1]\n",
    "    b = np.transpose(b, [1, 0])\n",
    "    b = np.packbits(b)\n",
    "    b = [reverse_bits(x, 8) for x in b]\n",
    "    \n",
    "    success = 0\n",
    "    \n",
    "    for i in range(len(op)):\n",
    "        \n",
    "        if c == op:\n",
    "            success += 1\n",
    "            \n",
    "        if i < disp_test:\n",
    "            print(\"%d + %d = %d \\t --> %5s \" % (a[i], b[i], c[i], c[i] == op[i]))\n",
    "            \n",
    "    print(\"\\nSuccess: %d/%d, Accuracy = %f\" % (success, len(op), success / len(op) * 100))"
   ]
  }
 ],
 "metadata": {
  "kernelspec": {
   "display_name": "Python 3",
   "language": "python",
   "name": "python3"
  },
  "language_info": {
   "codemirror_mode": {
    "name": "ipython",
    "version": 3
   },
   "file_extension": ".py",
   "mimetype": "text/x-python",
   "name": "python",
   "nbconvert_exporter": "python",
   "pygments_lexer": "ipython3",
   "version": "3.6.0"
  }
 },
 "nbformat": 4,
 "nbformat_minor": 2
}
